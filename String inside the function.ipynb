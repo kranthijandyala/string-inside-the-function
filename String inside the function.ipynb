{
 "cells": [
  {
   "cell_type": "markdown",
   "id": "62881189",
   "metadata": {},
   "source": [
    "# Write a Python program to reverse a string.\n",
    "\n"
   ]
  },
  {
   "cell_type": "code",
   "execution_count": 2,
   "id": "65ca63de",
   "metadata": {},
   "outputs": [
    {
     "name": "stdout",
     "output_type": "stream",
     "text": [
      "dcba4321\n"
     ]
    }
   ],
   "source": [
    "#Sample String : \"1234abcd\"\n",
    "def string_name(string):\n",
    "    return string[::-1]\n",
    "print(string_name('1234abcd'))"
   ]
  },
  {
   "cell_type": "code",
   "execution_count": null,
   "id": "cac3518a",
   "metadata": {},
   "outputs": [],
   "source": []
  }
 ],
 "metadata": {
  "kernelspec": {
   "display_name": "Python 3 (ipykernel)",
   "language": "python",
   "name": "python3"
  },
  "language_info": {
   "codemirror_mode": {
    "name": "ipython",
    "version": 3
   },
   "file_extension": ".py",
   "mimetype": "text/x-python",
   "name": "python",
   "nbconvert_exporter": "python",
   "pygments_lexer": "ipython3",
   "version": "3.9.13"
  }
 },
 "nbformat": 4,
 "nbformat_minor": 5
}
